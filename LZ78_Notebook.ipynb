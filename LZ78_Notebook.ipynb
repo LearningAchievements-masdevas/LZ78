{
 "cells": [
  {
   "cell_type": "markdown",
   "metadata": {},
   "source": [
    "### Predefined class"
   ]
  },
  {
   "cell_type": "code",
   "execution_count": 40,
   "metadata": {},
   "outputs": [],
   "source": [
    "class Node:\n",
    "    def __init__(self, number_in_dict, next_char):\n",
    "        self.number_in_dict = number_in_dict\n",
    "        self.next_char = next_char\n"
   ]
  },
  {
   "cell_type": "markdown",
   "metadata": {},
   "source": [
    "### Utils"
   ]
  },
  {
   "cell_type": "code",
   "execution_count": 41,
   "metadata": {},
   "outputs": [],
   "source": [
    "def print_nodes(nodes: list):\n",
    "    for node in nodes:\n",
    "        print(\"[\" + str(node.number_in_dict) + \":\" + str(node.next_char) + \"]\", end=\" \")\n",
    "    print(\"\")\n"
   ]
  },
  {
   "cell_type": "markdown",
   "metadata": {},
   "source": [
    "### Encryption algorithm"
   ]
  },
  {
   "cell_type": "code",
   "execution_count": 42,
   "metadata": {},
   "outputs": [],
   "source": [
    "def lz78_encription(data: str) -> list:\n",
    "    nodes = []\n",
    "    nodes_dict = {}\n",
    "    current_pos = 0\n",
    "    while current_pos < len(data):\n",
    "        found_prefix_position = -1\n",
    "        for prefix_size in range(1, len(data) - current_pos + 1):\n",
    "            if data[current_pos : current_pos + prefix_size] not in nodes_dict.keys():\n",
    "                nodes_dict[data[current_pos : current_pos + prefix_size]] = len(nodes)\n",
    "                nodes.append(Node(found_prefix_position, data[current_pos + prefix_size - 1]))\n",
    "                current_pos += prefix_size\n",
    "                break\n",
    "            else:\n",
    "                found_prefix_position = nodes_dict[data[current_pos : current_pos + prefix_size]]\n",
    "        else:\n",
    "            nodes.append(Node(found_prefix_position, \"\"))\n",
    "            current_pos += prefix_size\n",
    "    return nodes\n"
   ]
  },
  {
   "cell_type": "markdown",
   "metadata": {},
   "source": [
    "### Examples for encription"
   ]
  },
  {
   "cell_type": "code",
   "execution_count": 43,
   "metadata": {},
   "outputs": [
    {
     "name": "stdout",
     "output_type": "stream",
     "text": [
      "Data: abacababacabc\n",
      "[-1:a] [-1:b] [0:c] [0:b] [3:a] [-1:c] [3:c] \n",
      "Data: abacababwrwwwwtsacabc\n",
      "[-1:a] [-1:b] [0:c] [0:b] [3:w] [-1:r] [-1:w] [6:w] [6:t] [-1:s] [2:a] [1:c] \n"
     ]
    }
   ],
   "source": [
    "data = \"abacababacabc\"\n",
    "print(\"Data:\", data)\n",
    "print_nodes(lz78_encription(data))\n",
    "\n",
    "data = \"abacababwrwwwwtsacabc\"\n",
    "print(\"Data:\", data)\n",
    "print_nodes(lz78_encription(data))\n"
   ]
  },
  {
   "cell_type": "markdown",
   "metadata": {},
   "source": [
    "### Decription algorithm"
   ]
  },
  {
   "cell_type": "code",
   "execution_count": 44,
   "metadata": {},
   "outputs": [],
   "source": [
    "def lz78_decription(nodes: list) -> str:\n",
    "    result = \"\"\n",
    "    nodes_dict = {}\n",
    "    for node_index in range(len(nodes)):\n",
    "        if nodes[node_index].number_in_dict == -1:\n",
    "            nodes_dict[node_index] = nodes[node_index].next_char\n",
    "        else:\n",
    "            nodes_dict[node_index] = nodes_dict[nodes[node_index].number_in_dict] + nodes[node_index].next_char\n",
    "        result += nodes_dict[node_index]\n",
    "    return result\n"
   ]
  },
  {
   "cell_type": "markdown",
   "metadata": {},
   "source": [
    "### Examples for full algorithm"
   ]
  },
  {
   "cell_type": "code",
   "execution_count": 45,
   "metadata": {},
   "outputs": [
    {
     "name": "stdout",
     "output_type": "stream",
     "text": [
      "Data: btb\n",
      "***\n",
      "[-1:b] [-1:t] [0:] \n",
      "Decripted data: btb\n",
      "Strings are equals\n"
     ]
    }
   ],
   "source": [
    "data = \"btb\"\n",
    "print(\"Data:\", data)\n",
    "nodes = lz78_encription(data)\n",
    "print(\"***\")\n",
    "print_nodes(nodes)\n",
    "decripted_data = lz78_decription(nodes)\n",
    "print(\"Decripted data:\", decripted_data)\n",
    "print(\"Strings are equals\" if data == decripted_data else \"Strings aren't equals\")"
   ]
  },
  {
   "cell_type": "markdown",
   "metadata": {},
   "source": [
    "### Random test"
   ]
  },
  {
   "cell_type": "code",
   "execution_count": 46,
   "metadata": {},
   "outputs": [
    {
     "name": "stdout",
     "output_type": "stream",
     "text": [
      "Data: j\n",
      "Data: a\n",
      "Data: e\n",
      "Data: z\n",
      "Data: k\n",
      "Data: w\n",
      "Data: f\n",
      "Data: a\n",
      "Data: b\n",
      "Data: g\n",
      "OK\n",
      "Data: np\n",
      "Data: fr\n",
      "Data: lv\n",
      "Data: cm\n",
      "Data: ut\n",
      "Data: hy\n",
      "Data: ck\n",
      "Data: vn\n",
      "Data: ke\n",
      "Data: ln\n",
      "OK\n",
      "Data: txh\n",
      "Data: uoa\n",
      "Data: ioe\n",
      "Data: qso\n",
      "Data: fra\n",
      "Data: yko\n",
      "Data: cro\n",
      "Data: uui\n",
      "Data: emf\n",
      "Data: skz\n",
      "OK\n",
      "Data: vsyf\n",
      "Data: ftvo\n",
      "Data: tspc\n",
      "Data: kbbu\n",
      "Data: gvup\n",
      "Data: rpbe\n",
      "Data: jjsh\n",
      "Data: tmpj\n",
      "Data: srxr\n",
      "Data: vlnq\n",
      "OK\n",
      "Data: zetht\n",
      "Data: nncje\n",
      "Data: pfsbc\n",
      "Data: lkovq\n",
      "Data: lubmy\n",
      "Data: tciud\n",
      "Data: abigd\n",
      "Data: uqrtv\n",
      "Data: bygzw\n",
      "Data: hfsly\n",
      "OK\n",
      "Data: fntary\n",
      "Data: hwnugf\n",
      "Data: aacukh\n",
      "Data: sccljp\n",
      "Data: knbfyv\n",
      "Data: ifsoge\n",
      "Data: jlncrj\n",
      "Data: yfsrek\n",
      "Data: bxcpre\n",
      "Data: shxdpq\n",
      "OK\n",
      "Data: dfbcjjs\n",
      "Data: ufkedwm\n",
      "Data: qzjxbxd\n",
      "Data: cvwclzp\n",
      "Data: lmjmglq\n",
      "Data: jsvnvtu\n",
      "Data: ufwxqxe\n",
      "Data: egfnkgd\n",
      "Data: couedyx\n",
      "Data: anbpejy\n",
      "OK\n",
      "Data: vptqybeu\n",
      "Data: ulkoedce\n",
      "Data: uxwmpybx\n",
      "Data: zswtsrdy\n",
      "Data: dmgeozrr\n",
      "Data: qlwmdlwj\n",
      "Data: qkdvvnjn\n",
      "Data: scjdqdag\n",
      "Data: opewsonp\n",
      "Data: gxzmkbpi\n",
      "OK\n",
      "Data: ezwzfnvxr\n",
      "Data: dukylykjk\n",
      "Data: wsjtraeiy\n",
      "Data: ifwognztp\n",
      "Data: xwevmfccw\n",
      "Data: csjxlcxmy\n",
      "Data: svwqveiev\n",
      "Data: gxntfjbth\n",
      "Data: cqgomwohe\n",
      "Data: pnzybtylv\n",
      "OK\n"
     ]
    }
   ],
   "source": [
    "import random\n",
    "import string\n",
    "\n",
    "def random_string(stringLength):\n",
    "    letters = string.ascii_lowercase\n",
    "    return ''.join(random.choice(letters) for i in range(stringLength))\n",
    "\n",
    "for length in range(1, 10):\n",
    "    for case_number in range(10):\n",
    "        data = random_string(length)\n",
    "        print(\"Data:\", data)\n",
    "        nodes = lz78_encription(data)\n",
    "        decripted_data = lz78_decription(nodes)\n",
    "        if data != decripted_data:\n",
    "            print(\"Strings aren't equals\")\n",
    "            break\n",
    "    else:\n",
    "        print(\"OK\")\n"
   ]
  },
  {
   "cell_type": "code",
   "execution_count": null,
   "metadata": {},
   "outputs": [],
   "source": []
  }
 ],
 "metadata": {
  "kernelspec": {
   "display_name": "Python 3",
   "language": "python",
   "name": "python3"
  },
  "language_info": {
   "codemirror_mode": {
    "name": "ipython",
    "version": 3
   },
   "file_extension": ".py",
   "mimetype": "text/x-python",
   "name": "python",
   "nbconvert_exporter": "python",
   "pygments_lexer": "ipython3",
   "version": "3.7.1"
  }
 },
 "nbformat": 4,
 "nbformat_minor": 2
}
