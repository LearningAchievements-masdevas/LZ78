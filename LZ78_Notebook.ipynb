{
 "cells": [
  {
   "cell_type": "markdown",
   "metadata": {},
   "source": [
    "### Predefined class"
   ]
  },
  {
   "cell_type": "code",
   "execution_count": 4,
   "metadata": {},
   "outputs": [],
   "source": [
    "class Node:\n",
    "    def __init__(self, number_in_dict, next_char):\n",
    "        self.number_in_dict = number_in_dict\n",
    "        self.next_char = next_char\n"
   ]
  },
  {
   "cell_type": "markdown",
   "metadata": {},
   "source": [
    "### Utils"
   ]
  },
  {
   "cell_type": "code",
   "execution_count": null,
   "metadata": {},
   "outputs": [],
   "source": [
    "def print_nodes(nodes: list):\n",
    "    for node in nodes:\n",
    "        print(\"[\" + str(node.number_in_dict) + \":\" + str(node.next_char) + \"]\", end=\" \")\n",
    "    print(\"\")\n"
   ]
  },
  {
   "cell_type": "markdown",
   "metadata": {},
   "source": [
    "### Encryption algorithm"
   ]
  },
  {
   "cell_type": "code",
   "execution_count": 6,
   "metadata": {},
   "outputs": [],
   "source": [
    "def lz78_encription(data: str) -> list:\n",
    "    nodes = []\n",
    "    nodes_dict = {}\n",
    "    current_pos = 0\n",
    "    while current_pos < len(data):\n",
    "        found_prefix_position = -1\n",
    "        for prefix_size in range(1, len(data) - current_pos + 1):\n",
    "            if data[current_pos : current_pos + prefix_size] not in nodes_dict.keys():\n",
    "                nodes_dict[data[current_pos : current_pos + prefix_size]] = len(nodes)\n",
    "                nodes.append(Node(found_prefix_position, data[current_pos + prefix_size - 1]))\n",
    "                current_pos += prefix_size\n",
    "                break\n",
    "            else:\n",
    "                found_prefix_position = nodes_dict[data[current_pos : current_pos + prefix_size]]\n",
    "    return nodes\n"
   ]
  },
  {
   "cell_type": "markdown",
   "metadata": {},
   "source": [
    "### Examples"
   ]
  },
  {
   "cell_type": "code",
   "execution_count": 11,
   "metadata": {},
   "outputs": [
    {
     "name": "stdout",
     "output_type": "stream",
     "text": [
      "Data: abacababacabc\n",
      "[-1:a] [-1:b] [0:c] [0:b] [3:a] [-1:c] [3:c] \n",
      "Data: abacababwrwwwwtsacabc\n",
      "[-1:a] [-1:b] [0:c] [0:b] [3:w] [-1:r] [-1:w] [6:w] [6:t] [-1:s] [2:a] [1:c] \n"
     ]
    }
   ],
   "source": [
    "data = \"abacababacabc\"\n",
    "print(\"Data:\", data)\n",
    "print_nodes(lz78_encription(data))\n",
    "\n",
    "data = \"abacababwrwwwwtsacabc\"\n",
    "print(\"Data:\", data)\n",
    "print_nodes(lz78_encription(data))"
   ]
  },
  {
   "cell_type": "code",
   "execution_count": null,
   "metadata": {},
   "outputs": [],
   "source": []
  },
  {
   "cell_type": "code",
   "execution_count": null,
   "metadata": {},
   "outputs": [],
   "source": []
  }
 ],
 "metadata": {
  "kernelspec": {
   "display_name": "Python 3",
   "language": "python",
   "name": "python3"
  },
  "language_info": {
   "codemirror_mode": {
    "name": "ipython",
    "version": 3
   },
   "file_extension": ".py",
   "mimetype": "text/x-python",
   "name": "python",
   "nbconvert_exporter": "python",
   "pygments_lexer": "ipython3",
   "version": "3.7.1"
  }
 },
 "nbformat": 4,
 "nbformat_minor": 2
}
